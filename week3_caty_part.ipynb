{
 "cells": [
  {
   "cell_type": "markdown",
   "metadata": {},
   "source": [
    "---"
   ]
  },
  {
   "cell_type": "markdown",
   "metadata": {},
   "source": [
    "# 迴圈中的流程控制：break, continue, else"
   ]
  },
  {
   "cell_type": "markdown",
   "metadata": {},
   "source": [
    "## Break: 終止「它所在的」 for 或 while 迴圈\n",
    "當程式執行到 break 時，就會強制結束它所屬的 for 或 while迴圈  \n",
    "\n",
    "\n",
    "範例：  \n",
    "小明身陷麻辣鍋地獄，一週七天都要吃麻辣鍋，如何救出小明！(他只想吃到星期二)  "
   ]
  },
  {
   "cell_type": "code",
   "execution_count": 1,
   "metadata": {},
   "outputs": [
    {
     "name": "stdout",
     "output_type": "stream",
     "text": [
      "今天是 星期一\n",
      "麻辣鍋\n",
      "今天是 星期二\n",
      "麻辣鍋\n",
      "今天是 星期三\n",
      "麻辣鍋\n",
      "今天是 星期四\n",
      "麻辣鍋\n",
      "今天是 星期五\n",
      "麻辣鍋\n",
      "今天是 星期六\n",
      "麻辣鍋\n",
      "今天是 星期日\n",
      "麻辣鍋\n",
      "逃出ㄌ麻辣鍋地獄\n"
     ]
    }
   ],
   "source": [
    "weekName=['星期一','星期二','星期三','星期四','星期五','星期六','星期日']\n",
    "for today in weekName:\n",
    "    print('今天是', today)\n",
    "    print('麻辣鍋')\n",
    "print('逃出ㄌ麻辣鍋地獄')"
   ]
  },
  {
   "cell_type": "code",
   "execution_count": 15,
   "metadata": {},
   "outputs": [
    {
     "name": "stdout",
     "output_type": "stream",
     "text": [
      "今天是 星期一\n",
      "麻辣鍋\n",
      "今天是 星期二\n",
      "麻辣鍋\n",
      "今天是 星期三\n",
      "逃出ㄌ麻辣鍋地獄\n"
     ]
    }
   ],
   "source": [
    "for today in weekName:\n",
    "    print('今天是', today)\n",
    "    if (today == '星期三'):\n",
    "        break\n",
    "    print('麻辣鍋')\n",
    "print('逃出ㄌ麻辣鍋地獄')"
   ]
  },
  {
   "cell_type": "markdown",
   "metadata": {},
   "source": [
    "```\n",
    "1 for today in weekName:\n",
    "2     print('今天是', today)\n",
    "3     if (today == '星期三'):\n",
    "4         break\n",
    "5     print('麻辣鍋')\n",
    "6 print('逃出ㄌ麻辣鍋地獄')\n",
    "```"
   ]
  },
  {
   "cell_type": "code",
   "execution_count": 2,
   "metadata": {},
   "outputs": [
    {
     "name": "stdout",
     "output_type": "stream",
     "text": [
      "今天是 星期一\n",
      "麻辣鍋\n",
      "今天是 星期二\n",
      "麻辣鍋\n",
      "今天是 星期三\n",
      "逃出ㄌ麻辣鍋地獄\n"
     ]
    }
   ],
   "source": [
    "i = 0\n",
    "while i < len(weekName):\n",
    "    print('今天是', weekName[i])\n",
    "    if weekName[i] == '星期三':\n",
    "        break\n",
    "    print('麻辣鍋')\n",
    "    i = i+1\n",
    "print('逃出ㄌ麻辣鍋地獄')"
   ]
  },
  {
   "cell_type": "markdown",
   "metadata": {},
   "source": [
    "---"
   ]
  },
  {
   "cell_type": "markdown",
   "metadata": {},
   "source": [
    "## continue: 繼續執行下一次的迴圈運作\n",
    "continue：不會讓迴圈結束；只跳過迴圈內 continue 後面的剩餘敘述，接著繼續執行下一次的迴圈運作。  \n",
    "\n",
    "\n",
    "範例：  \n",
    "小明只有星期三不想吃麻辣鍋，要怎麼印呢？"
   ]
  },
  {
   "cell_type": "code",
   "execution_count": 52,
   "metadata": {},
   "outputs": [
    {
     "name": "stdout",
     "output_type": "stream",
     "text": [
      "今天是 星期一\n",
      "麻辣鍋\n",
      "今天是 星期二\n",
      "麻辣鍋\n",
      "今天是 星期三\n",
      "今天是 星期四\n",
      "麻辣鍋\n",
      "今天是 星期五\n",
      "麻辣鍋\n",
      "今天是 星期六\n",
      "麻辣鍋\n",
      "今天是 星期日\n",
      "麻辣鍋\n"
     ]
    }
   ],
   "source": [
    "for today in weekName:\n",
    "    print('今天是', today)\n",
    "    if (today == '星期三'):\n",
    "        continue\n",
    "    print('麻辣鍋')"
   ]
  },
  {
   "cell_type": "markdown",
   "metadata": {},
   "source": [
    "```\n",
    "1 for today in weekName:\n",
    "2     print('今天是', today)\n",
    "3     if (today == '星期三'):\n",
    "4         continue\n",
    "5     print('麻辣鍋')\n",
    "6 print('逃出ㄌ麻辣鍋地獄')\n",
    "```"
   ]
  },
  {
   "cell_type": "markdown",
   "metadata": {},
   "source": [
    "### continue後面的程式碼將不會執行，而是直接進到下一次迴圈\n",
    "範例：小明吃得到焦糖布丁嗎？"
   ]
  },
  {
   "cell_type": "code",
   "execution_count": 53,
   "metadata": {},
   "outputs": [
    {
     "name": "stdout",
     "output_type": "stream",
     "text": [
      "今天是 星期一\n",
      "麻辣鍋\n",
      "今天是 星期二\n",
      "麻辣鍋\n",
      "今天是 星期三\n",
      "今天是 星期四\n",
      "麻辣鍋\n",
      "今天是 星期五\n",
      "麻辣鍋\n",
      "今天是 星期六\n",
      "麻辣鍋\n",
      "今天是 星期日\n",
      "麻辣鍋\n"
     ]
    }
   ],
   "source": [
    "for today in weekName:\n",
    "    print('今天是', today)\n",
    "    if (today == '星期三'):\n",
    "        continue\n",
    "        print('今天星期三，來ㄘ焦糖布丁')    # 這行程式碼會印出來嗎？\n",
    "    print('麻辣鍋')"
   ]
  },
  {
   "cell_type": "markdown",
   "metadata": {},
   "source": [
    "---"
   ]
  },
  {
   "cell_type": "markdown",
   "metadata": {},
   "source": [
    "### pass: 不做任何事情，所有的程式都將繼續"
   ]
  },
  {
   "cell_type": "code",
   "execution_count": 4,
   "metadata": {},
   "outputs": [
    {
     "name": "stdout",
     "output_type": "stream",
     "text": [
      "今天是 星期一\n",
      "麻辣鍋\n",
      "今天是 星期二\n",
      "麻辣鍋\n",
      "今天是 星期三\n",
      "今天是 星期四\n",
      "麻辣鍋\n",
      "今天是 星期五\n",
      "麻辣鍋\n",
      "今天是 星期六\n",
      "麻辣鍋\n",
      "今天是 星期日\n",
      "麻辣鍋\n"
     ]
    }
   ],
   "source": [
    "for today in weekName:\n",
    "    print('今天是', today)\n",
    "    if (today == '星期三'):\n",
    "        pass\n",
    "    else:\n",
    "        print('麻辣鍋')"
   ]
  },
  {
   "cell_type": "markdown",
   "metadata": {},
   "source": [
    "在迴圈中使用 pass 語句，執行程式後，你會發現什麼事也沒做，完全不起任何作用，只是一個空運算而已，問題就來了：  \n",
    "**那 pass 有什麼用？？？**  \n",
    "\n",
    "在寫程式的時候，有時候想的比實際寫出來的速度快，例如寫一個迴圈，但還沒有實作出來，空著內容不寫又會產生語法錯誤🤦‍♂️，這時就會使用 pass 來替代，當作是個指標，提醒自己之後要來完成。"
   ]
  },
  {
   "cell_type": "code",
   "execution_count": 78,
   "metadata": {},
   "outputs": [],
   "source": [
    "for i in range(10):\n",
    "    pass  # 提醒自己之後來完成"
   ]
  },
  {
   "cell_type": "code",
   "execution_count": 79,
   "metadata": {},
   "outputs": [
    {
     "ename": "SyntaxError",
     "evalue": "unexpected EOF while parsing (<ipython-input-79-e61162350cc4>, line 1)",
     "output_type": "error",
     "traceback": [
      "\u001b[0;36m  File \u001b[0;32m\"<ipython-input-79-e61162350cc4>\"\u001b[0;36m, line \u001b[0;32m1\u001b[0m\n\u001b[0;31m    for i in range(10):\u001b[0m\n\u001b[0m                       ^\u001b[0m\n\u001b[0;31mSyntaxError\u001b[0m\u001b[0;31m:\u001b[0m unexpected EOF while parsing\n"
     ]
    }
   ],
   "source": [
    "for i in range(10):"
   ]
  },
  {
   "cell_type": "markdown",
   "metadata": {},
   "source": [
    "---"
   ]
  },
  {
   "cell_type": "markdown",
   "metadata": {},
   "source": [
    "### 補充：python 特有的 for else\n",
    "python 的 for 迴圈可以帶有一個 else 子句。當迴圈把所有 item 都看完時，else子句會被執行；但迴圈被 break 陳述式終止時，else 則不會執行。  "
   ]
  },
  {
   "cell_type": "code",
   "execution_count": 75,
   "metadata": {},
   "outputs": [
    {
     "name": "stdout",
     "output_type": "stream",
     "text": [
      "星期一\n",
      "星期二\n",
      "星期三\n",
      "星期四\n",
      "星期五\n",
      "星期六\n",
      "星期日\n",
      "一個禮拜結束了\n"
     ]
    }
   ],
   "source": [
    "for day in weekName:\n",
    "    print(day)\n",
    "else:\n",
    "    print('一個禮拜結束了')"
   ]
  },
  {
   "cell_type": "markdown",
   "metadata": {},
   "source": [
    "### 練習：判斷使用者輸入的數字是不是質數\n",
    "\n",
    "演算法：  \n",
    "1. 讓使用者輸入正整數 n\n",
    "2. 檢查 n 能否被 2~n-1 中的數字整除\n",
    "3. 可以被整除的話，印出 n 不是質數\n",
    "4. 直到 n-1 都沒有被整除的話，印出 n 是質數"
   ]
  },
  {
   "cell_type": "code",
   "execution_count": 6,
   "metadata": {},
   "outputs": [
    {
     "name": "stdin",
     "output_type": "stream",
     "text": [
      "輸入一個正整數： 2\n"
     ]
    },
    {
     "name": "stdout",
     "output_type": "stream",
     "text": [
      "2 是質數\n"
     ]
    }
   ],
   "source": [
    "n = int(input('輸入一個正整數：'))\n",
    "\n",
    "for i in range(2, n):\n",
    "    if n%i == 0:\n",
    "        print(n, '不是質數')\n",
    "        break\n",
    "else:\n",
    "    print(n, '是質數')"
   ]
  },
  {
   "cell_type": "markdown",
   "metadata": {},
   "source": [
    "---"
   ]
  },
  {
   "cell_type": "markdown",
   "metadata": {},
   "source": [
    "# 迴圈包迴圈 aka 兩層以上的for迴圈\n",
    "\n",
    "單層迴圈很好理解，但雙層迴圈可能就要想一下了喔～"
   ]
  },
  {
   "cell_type": "markdown",
   "metadata": {},
   "source": [
    "### 雙層迴圈範例：星星矩陣\n",
    "要如何印出5*5的星星矩陣呢？  \n",
    "期望執行結果：  "
   ]
  },
  {
   "cell_type": "markdown",
   "metadata": {},
   "source": [
    "\\*\\*\\*\\*\\*  \n",
    "\\*\\*\\*\\*\\*  \n",
    "\\*\\*\\*\\*\\*  \n",
    "\\*\\*\\*\\*\\*  \n",
    "\\*\\*\\*\\*\\*  "
   ]
  },
  {
   "cell_type": "markdown",
   "metadata": {},
   "source": [
    "我們可以將過程拆解為兩個步驟：  \n",
    "1. 印出一列星星\n",
    "2. 印出五列星星"
   ]
  },
  {
   "cell_type": "markdown",
   "metadata": {},
   "source": [
    "### 一、印出一排星星"
   ]
  },
  {
   "cell_type": "code",
   "execution_count": 41,
   "metadata": {},
   "outputs": [
    {
     "name": "stdout",
     "output_type": "stream",
     "text": [
      "*****"
     ]
    }
   ],
   "source": [
    "for i in range(5):\n",
    "    print('*', end='')"
   ]
  },
  {
   "cell_type": "markdown",
   "metadata": {},
   "source": [
    "### 二、印出五排星星\n",
    "重複做五次「印出一列星星」，每印一列就換行，就會印出五列星星～\n",
    "\n",
    "[visualize](https://pythontutor.com/visualize.html#mode=edit)"
   ]
  },
  {
   "cell_type": "code",
   "execution_count": 42,
   "metadata": {},
   "outputs": [
    {
     "name": "stdout",
     "output_type": "stream",
     "text": [
      "*****\n",
      "*****\n",
      "*****\n",
      "*****\n",
      "*****\n"
     ]
    }
   ],
   "source": [
    "for i in range(5):\n",
    "    for j in range(5):\n",
    "        print('*', end='')\n",
    "    print()    # 印完一列就換行"
   ]
  },
  {
   "cell_type": "markdown",
   "metadata": {},
   "source": [
    "```\n",
    "加行號版本：\n",
    "1 for i in range(5):\n",
    "2     for j in range(5):\n",
    "3         print('*', end='')\n",
    "4     print()   \n",
    "```"
   ]
  },
  {
   "cell_type": "markdown",
   "metadata": {},
   "source": [
    "### 如果我們故意讓程式慢慢顯示：\n",
    "在印星星的過程中， i 跟 j 是如何變化的呢？讓我們印出來看看"
   ]
  },
  {
   "cell_type": "code",
   "execution_count": 47,
   "metadata": {},
   "outputs": [
    {
     "name": "stdout",
     "output_type": "stream",
     "text": [
      "i=0 | 01234換行\n",
      "i=1 | 01234換行\n",
      "i=2 | 01234換行\n",
      "i=3 | 01234換行\n",
      "i=4 | 01234換行\n"
     ]
    }
   ],
   "source": [
    "for i in range(5):\n",
    "    print(f\"i={i} | \", end='')\n",
    "    for j in range(5):\n",
    "        print(j, end='')\n",
    "    print('換行', end='\\n')"
   ]
  },
  {
   "cell_type": "markdown",
   "metadata": {},
   "source": [
    "---"
   ]
  },
  {
   "cell_type": "markdown",
   "metadata": {},
   "source": [
    "### 練習：ㄘ我的九九乘法表辣！\n"
   ]
  },
  {
   "cell_type": "markdown",
   "metadata": {},
   "source": [
    "請印出九九乘法表，範例輸出:  \n",
    "<img src=\"https://imgur.com/KVA0a9w.jpg\" width=\"70%\">  \n",
    "**提示：**\n",
    "1. 請用雙層迴圈\n",
    "2. 算式結尾加上 \\t 可以讓排版變漂亮\n",
    "3. print() 可以換行"
   ]
  },
  {
   "cell_type": "code",
   "execution_count": 32,
   "metadata": {},
   "outputs": [
    {
     "name": "stdout",
     "output_type": "stream",
     "text": [
      "1*1=1\t2*1=2\t3*1=3\t4*1=4\t5*1=5\t6*1=6\t7*1=7\t8*1=8\t9*1=9\t\n",
      "1*2=2\t2*2=4\t3*2=6\t4*2=8\t5*2=10\t6*2=12\t7*2=14\t8*2=16\t9*2=18\t\n",
      "1*3=3\t2*3=6\t3*3=9\t4*3=12\t5*3=15\t6*3=18\t7*3=21\t8*3=24\t9*3=27\t\n",
      "1*4=4\t2*4=8\t3*4=12\t4*4=16\t5*4=20\t6*4=24\t7*4=28\t8*4=32\t9*4=36\t\n",
      "1*5=5\t2*5=10\t3*5=15\t4*5=20\t5*5=25\t6*5=30\t7*5=35\t8*5=40\t9*5=45\t\n",
      "1*6=6\t2*6=12\t3*6=18\t4*6=24\t5*6=30\t6*6=36\t7*6=42\t8*6=48\t9*6=54\t\n",
      "1*7=7\t2*7=14\t3*7=21\t4*7=28\t5*7=35\t6*7=42\t7*7=49\t8*7=56\t9*7=63\t\n",
      "1*8=8\t2*8=16\t3*8=24\t4*8=32\t5*8=40\t6*8=48\t7*8=56\t8*8=64\t9*8=72\t\n",
      "1*9=9\t2*9=18\t3*9=27\t4*9=36\t5*9=45\t6*9=54\t7*9=63\t8*9=72\t9*9=81\t\n"
     ]
    }
   ],
   "source": [
    "# answer\n",
    "for i in range(1, 10):\n",
    "    for j in range(1, 10):\n",
    "        print(f'{j}*{i}={i*j}', end='\\t')\n",
    "    print()"
   ]
  },
  {
   "cell_type": "markdown",
   "metadata": {},
   "source": [
    "---"
   ]
  },
  {
   "cell_type": "markdown",
   "metadata": {},
   "source": [
    "reference: \n",
    "- https://docs.python.org/zh-tw/3/tutorial/controlflow.html#for-statements\n",
    "- [Python 簡易理解雙層for迴圈-初學者系列](https://medium.com/%E8%AA%A4%E9%97%96%E6%95%B8%E6%93%9A%E5%8F%A2%E6%9E%97%E7%9A%84%E5%95%86%E7%AE%A1%E4%BA%BAzino/python-%E7%B0%A1%E6%98%93%E7%90%86%E8%A7%A3%E9%9B%99%E5%B1%A4for%E8%BF%B4%E5%9C%88-%E5%88%9D%E5%AD%B8%E8%80%85%E7%B3%BB%E5%88%97-f595d6816b65)\n",
    "- [1 分鐘搞懂 Python 迴圈控制：break、continue、pass](https://medium.com/@chiayinchen/1-%E5%88%86%E9%90%98%E6%90%9E%E6%87%82-python-%E8%BF%B4%E5%9C%88%E6%8E%A7%E5%88%B6-break-continue-pass-be290cd1f9d8)"
   ]
  }
 ],
 "metadata": {
  "kernelspec": {
   "display_name": "Python 3",
   "language": "python",
   "name": "python3"
  },
  "language_info": {
   "codemirror_mode": {
    "name": "ipython",
    "version": 3
   },
   "file_extension": ".py",
   "mimetype": "text/x-python",
   "name": "python",
   "nbconvert_exporter": "python",
   "pygments_lexer": "ipython3",
   "version": "3.8.10"
  }
 },
 "nbformat": 4,
 "nbformat_minor": 4
}
