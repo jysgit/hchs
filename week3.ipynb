{
 "cells": [
  {
   "cell_type": "markdown",
   "metadata": {},
   "source": [
    "# 【迴圈】Loop\n",
    "\n",
    "---\n",
    "大家還記得上一堂課的while嗎？"
   ]
  },
  {
   "cell_type": "code",
   "execution_count": 97,
   "metadata": {},
   "outputs": [
    {
     "name": "stdout",
     "output_type": "stream",
     "text": [
      "0 數學\n",
      "1 英文\n",
      "2 中文\n",
      "3 物理\n",
      "4 完美的程設\n",
      "5 數學\n",
      "6 英文\n",
      "7 中文\n",
      "8 物理\n",
      "9 完美的程設\n"
     ]
    }
   ],
   "source": [
    "books = ['數學', '英文', '中文', '物理', '完美的程設'] * 2\n",
    "i = 0\n",
    "while i < 10:\n",
    "    print(i, books[i])\n",
    "    i = i + 1"
   ]
  },
  {
   "cell_type": "markdown",
   "metadata": {},
   "source": [
    "其實有更簡單的寫法:"
   ]
  },
  {
   "cell_type": "code",
   "execution_count": 89,
   "metadata": {},
   "outputs": [
    {
     "name": "stdout",
     "output_type": "stream",
     "text": [
      "數學\n",
      "英文\n",
      "中文\n",
      "物理\n",
      "完美的程設\n",
      "數學\n",
      "英文\n",
      "中文\n",
      "物理\n",
      "完美的程設\n"
     ]
    }
   ],
   "source": [
    "books = ['數學', '英文', '中文', '物理', '完美的程設'] * 2\n",
    "for one_book in books:\n",
    "    print(one_book)"
   ]
  },
  {
   "cell_type": "markdown",
   "metadata": {},
   "source": [
    "## for 迴圈\n",
    "**for 迴圈** 可以<u>一個一個地，遍歷整個序列</u>。\n",
    "* 序列是什麼？ 有序的集合，現在只要先記得list和string是序列就好\n",
    "<br>\n",
    "用法如下：  \n",
    "\n",
    "```\n",
    "for 變數 in 序列:\n",
    "    ... <= 對該變數做處理\n",
    "```\n",
    "\n",
    "所以上面的 code 做了什麼事？\n",
    "\n",
    "```\n",
    "1: books = ['數學', '英文', '中文', '物理', '完美的程設'] * 2\n",
    "2: for one_book in books:\n",
    "3:     print(one_book)\n",
    "```"
   ]
  },
  {
   "cell_type": "markdown",
   "metadata": {},
   "source": [
    "## for和while的差異\n",
    "for寫起來比較簡潔，那我們只需要用for就好嗎？\n",
    "\n",
    "* for迴圈會遍歷整個個序列\n",
    "* while迴圈只要符合某個條件就會停止\n",
    "* 使用上取決於資料結構(是否是序列)或情境\n",
    "* 什麼情境適合用while？ 遇到物理就停止： "
   ]
  },
  {
   "cell_type": "code",
   "execution_count": 43,
   "metadata": {},
   "outputs": [
    {
     "name": "stdout",
     "output_type": "stream",
     "text": [
      "數學\n",
      "英文\n",
      "中文\n"
     ]
    }
   ],
   "source": [
    "books = ['數學', '英文', '中文', '物理', '完美的程設'] * 2\n",
    "i = 0\n",
    "while books[i]!=\"物理\":\n",
    "    print(books[i])\n",
    "    i = i + 1"
   ]
  },
  {
   "cell_type": "markdown",
   "metadata": {},
   "source": [
    "# 【List】基本操作\n",
    "\n",
    "---\n",
    "* 從0開始\n",
    "* 這個值我們叫做index"
   ]
  },
  {
   "cell_type": "code",
   "execution_count": 93,
   "metadata": {},
   "outputs": [],
   "source": [
    "universities = ['台灣大學', '清華大學', '交通大學', '成功大學', '大葉大學']"
   ]
  },
  {
   "cell_type": "code",
   "execution_count": 69,
   "metadata": {},
   "outputs": [
    {
     "name": "stdout",
     "output_type": "stream",
     "text": [
      "5\n"
     ]
    }
   ],
   "source": [
    "#取得list長度\n",
    "print(len(universities))"
   ]
  },
  {
   "cell_type": "code",
   "execution_count": 70,
   "metadata": {},
   "outputs": [
    {
     "name": "stdout",
     "output_type": "stream",
     "text": [
      "['台灣大學', '清華大學', '交通大學', '成功大學']\n"
     ]
    }
   ],
   "source": [
    "#只要前四個元素\n",
    "print(universities[:4])"
   ]
  },
  {
   "cell_type": "code",
   "execution_count": 92,
   "metadata": {},
   "outputs": [
    {
     "name": "stdout",
     "output_type": "stream",
     "text": [
      "['清華大學', '交通大學', '成功大學']\n",
      "['清華大學', '交通大學', '成功大學']\n"
     ]
    }
   ],
   "source": [
    "#只要中間3個元素\n",
    "print(universities[1:4])\n",
    "print(universities[1:1+3])"
   ]
  },
  {
   "cell_type": "markdown",
   "metadata": {},
   "source": [
    "list [ 頭 : 尾 ]\n",
    "* 可以當作是頭到(:)尾\n",
    "* 頭有被包含 \"[\"，尾不包含 \")\"\n",
    "* 沒有寫的話代表到頭或尾的底"
   ]
  },
  {
   "cell_type": "code",
   "execution_count": 72,
   "metadata": {},
   "outputs": [
    {
     "name": "stdout",
     "output_type": "stream",
     "text": [
      "['清華大學', '交通大學', '成功大學', '大葉大學']\n"
     ]
    }
   ],
   "source": [
    "#第2個到最後一個\n",
    "print(universities[1:])"
   ]
  },
  {
   "cell_type": "code",
   "execution_count": 94,
   "metadata": {},
   "outputs": [
    {
     "name": "stdout",
     "output_type": "stream",
     "text": [
      "['交通大學', '成功大學', '大葉大學']\n"
     ]
    }
   ],
   "source": [
    "# 只要最後的3個\n",
    "print(universities[len(universities)-3:])"
   ]
  },
  {
   "cell_type": "code",
   "execution_count": 74,
   "metadata": {},
   "outputs": [
    {
     "name": "stdout",
     "output_type": "stream",
     "text": [
      "['交通大學', '成功大學', '大葉大學']\n"
     ]
    }
   ],
   "source": [
    "# 也可以這樣寫\n",
    "print(universities[-3:])\n",
    "# 負數代表倒數第幾"
   ]
  },
  {
   "cell_type": "code",
   "execution_count": 77,
   "metadata": {},
   "outputs": [
    {
     "name": "stdout",
     "output_type": "stream",
     "text": [
      "['台灣大學', '交通大學', '大葉大學']\n"
     ]
    }
   ],
   "source": [
    "# 只要奇數位置的學校\n",
    "print(universities[::2])\n",
    "# 最後一個值代表間隔多少"
   ]
  },
  {
   "cell_type": "code",
   "execution_count": 78,
   "metadata": {},
   "outputs": [
    {
     "name": "stdout",
     "output_type": "stream",
     "text": [
      "['台灣大學', '交通大學']\n"
     ]
    }
   ],
   "source": [
    "# 奇數位置，但不要最後一個\n",
    "print(universities[:-1:2])"
   ]
  },
  {
   "cell_type": "code",
   "execution_count": 79,
   "metadata": {},
   "outputs": [
    {
     "name": "stdout",
     "output_type": "stream",
     "text": [
      "['台灣大學', '清華大學', '交通大學', '成功大學', '大葉大學', '政治大學']\n"
     ]
    }
   ],
   "source": [
    "#list增加元素\n",
    "universities.append(\"政治大學\")\n",
    "print(universities)"
   ]
  },
  {
   "cell_type": "code",
   "execution_count": 87,
   "metadata": {},
   "outputs": [
    {
     "name": "stdout",
     "output_type": "stream",
     "text": [
      "['台灣大學', '清華大學', '交通大學', '臺灣科技大學', '台北科技大學', '雲林科技大學']\n"
     ]
    }
   ],
   "source": [
    "#合併兩個list\n",
    "Normal = ['台灣大學', '清華大學', '交通大學']\n",
    "Technology = ['臺灣科技大學', '台北科技大學', '雲林科技大學']\n",
    "universities = Normal + Technology\n",
    "print(universities)\n",
    "#Normal.extend(Technology)\n",
    "#print(Normal)"
   ]
  },
  {
   "cell_type": "markdown",
   "metadata": {},
   "source": [
    "## 小練習1\n",
    "比較湖人球員和籃網球員，哪一隊的平均年紀比較大？\n",
    "* player_age: 第一個是湖人球員的年紀、第二個是籃網的、第三個是湖人的.....、最後一個是籃網的\n",
    "* 籃網球員多了4位，記在Other_Nets_player_age"
   ]
  },
  {
   "cell_type": "code",
   "execution_count": 36,
   "metadata": {},
   "outputs": [],
   "source": [
    "player_age = ['37', '36', '36', '36', '36', '34', '35', '34', '35', '32', '34', '32', '33', '32', '33', '32', '32', '30', '32', '29', '28', '27', '26', '25', '23', '25', '23', '23', '22', '22', '22', '22', '21', '21', '20', '21']\n",
    "Other_Nets_player_age = ['21', '20', '19', '19']"
   ]
  },
  {
   "cell_type": "code",
   "execution_count": null,
   "metadata": {},
   "outputs": [],
   "source": [
    "...\n",
    "\n",
    "#請印出湖人球員的平均年紀：\n",
    "print(\"湖人球員的平均年紀：\",...)\n",
    "#請印出籃網球員的平均年紀：\n",
    "print(\"籃網球員的平均年紀：\",...)\n",
    "if ...\n",
    "    print(\"湖人比較老！\")\n",
    "else:\n",
    "    print(\"籃網比較老！\")"
   ]
  },
  {
   "cell_type": "markdown",
   "metadata": {},
   "source": [
    "# 【range】基本操作\n",
    "\n",
    "---\n",
    "如果我需要變數index的值？\n",
    "* 這時候我們需要for搭配range一起使用 (常見！)"
   ]
  },
  {
   "cell_type": "code",
   "execution_count": 96,
   "metadata": {},
   "outputs": [
    {
     "name": "stdout",
     "output_type": "stream",
     "text": [
      "0 數學\n",
      "1 英文\n",
      "2 中文\n",
      "3 物理\n",
      "4 完美的程設\n",
      "5 數學\n",
      "6 英文\n",
      "7 中文\n",
      "8 物理\n",
      "9 完美的程設\n"
     ]
    }
   ],
   "source": [
    "# 剛剛用for改寫，沒有印出編號\n",
    "books = ['數學', '英文', '中文', '物理', '完美的程設'] * 2\n",
    "for i in range(len(books)):\n",
    "    print(i,books[i])"
   ]
  },
  {
   "cell_type": "markdown",
   "metadata": {},
   "source": [
    "剛剛發生了什麼事？\n",
    "\n",
    "```\n",
    "1: books = ['數學', '英文', '中文', '物理', '完美的程設'] * 2\n",
    "2: for i in range(len(books)):\n",
    "3:     print(i+1,books[i])\n",
    "```"
   ]
  },
  {
   "cell_type": "markdown",
   "metadata": {},
   "source": [
    "range用法和list的取值非常相似"
   ]
  },
  {
   "cell_type": "code",
   "execution_count": 46,
   "metadata": {},
   "outputs": [
    {
     "name": "stdout",
     "output_type": "stream",
     "text": [
      "0\n",
      "1\n",
      "2\n",
      "3\n",
      "4\n"
     ]
    }
   ],
   "source": [
    "#生成一等差數列\n",
    "for i in range(5):\n",
    "    print(i)"
   ]
  },
  {
   "cell_type": "code",
   "execution_count": 80,
   "metadata": {},
   "outputs": [
    {
     "name": "stdout",
     "output_type": "stream",
     "text": [
      "8\n",
      "9\n",
      "10\n",
      "11\n",
      "12\n"
     ]
    }
   ],
   "source": [
    "#8到12\n",
    "for i in range(8,13):\n",
    "    print(i)"
   ]
  },
  {
   "cell_type": "code",
   "execution_count": 100,
   "metadata": {},
   "outputs": [
    {
     "name": "stdout",
     "output_type": "stream",
     "text": [
      "0\n",
      "3\n",
      "6\n",
      "9\n"
     ]
    }
   ],
   "source": [
    "#公差為3\n",
    "for i in range(0,10,3):\n",
    "    print(i)\n",
    "#0不能忽略不寫，因為數值沒有範圍\n",
    "#間隔沒有寫的話就是1"
   ]
  },
  {
   "cell_type": "markdown",
   "metadata": {},
   "source": [
    "## 小練習2\n",
    "這裡有兩個熱門動畫的排名，分別是2010和2020的，請合併成一個最終排名\n",
    "* 各取前5名\n",
    "* 貴古賤今，同名次的話，2010的排在2020前\n",
    "* 結果：'K-ON！輕音部', 'ONE PIECE', 'Angel Beats！', '鬼滅之刃', ....."
   ]
  },
  {
   "cell_type": "code",
   "execution_count": null,
   "metadata": {},
   "outputs": [],
   "source": [
    "hot_animate_rank_2020 = [\"ONE PIECE\", \"鬼滅之刃\", \"灌籃高手\", \"名偵探柯南\", \"七龍珠\", \"進擊的巨人\", \"火影忍者\", \"排球少年！！\", \"鋼之錬金術師\", \"JoJo的奇妙冒險\",]\n",
    "hot_animate_rank_2010 = [\"K-ON！輕音部\", \"Angel Beats！\", \"涼宮春日的憂鬱\", \"Code Geass 反叛的魯路修\", \"魔法禁書目錄外傳 科學超電磁砲\", \"化物語\", \"無頭騎士異聞錄 DuRaRaRa!!\", \"笨蛋，測驗，召喚獸\", \"強襲魔女 2\", \"碧陽學園學生會議事錄\"]\n",
    "final_rank = []\n",
    "..."
   ]
  },
  {
   "cell_type": "markdown",
   "metadata": {},
   "source": [
    "---"
   ]
  },
  {
   "cell_type": "markdown",
   "metadata": {},
   "source": [
    "# 迴圈中的流程控制：break, continue, else"
   ]
  },
  {
   "cell_type": "markdown",
   "metadata": {},
   "source": [
    "## Break: 終止「它所在的」 for 或 while 迴圈\n",
    "當程式執行到 break 時，就會強制結束它所屬的 for 或 while迴圈  \n",
    "\n",
    "\n",
    "範例：  \n",
    "小明身陷麻辣鍋地獄，一週七天都要吃麻辣鍋，如何救出小明！(他只想吃到星期二)  "
   ]
  },
  {
   "cell_type": "code",
   "execution_count": 1,
   "metadata": {},
   "outputs": [
    {
     "name": "stdout",
     "output_type": "stream",
     "text": [
      "今天是 星期一\n",
      "麻辣鍋\n",
      "今天是 星期二\n",
      "麻辣鍋\n",
      "今天是 星期三\n",
      "麻辣鍋\n",
      "今天是 星期四\n",
      "麻辣鍋\n",
      "今天是 星期五\n",
      "麻辣鍋\n",
      "今天是 星期六\n",
      "麻辣鍋\n",
      "今天是 星期日\n",
      "麻辣鍋\n",
      "逃出ㄌ麻辣鍋地獄\n"
     ]
    }
   ],
   "source": [
    "weekName=['星期一','星期二','星期三','星期四','星期五','星期六','星期日']\n",
    "for today in weekName:\n",
    "    print('今天是', today)\n",
    "    print('麻辣鍋')\n",
    "print('逃出ㄌ麻辣鍋地獄')"
   ]
  },
  {
   "cell_type": "code",
   "execution_count": 15,
   "metadata": {},
   "outputs": [
    {
     "name": "stdout",
     "output_type": "stream",
     "text": [
      "今天是 星期一\n",
      "麻辣鍋\n",
      "今天是 星期二\n",
      "麻辣鍋\n",
      "今天是 星期三\n",
      "逃出ㄌ麻辣鍋地獄\n"
     ]
    }
   ],
   "source": [
    "for today in weekName:\n",
    "    print('今天是', today)\n",
    "    if (today == '星期三'):\n",
    "        break\n",
    "    print('麻辣鍋')\n",
    "print('逃出ㄌ麻辣鍋地獄')"
   ]
  },
  {
   "cell_type": "markdown",
   "metadata": {},
   "source": [
    "```\n",
    "1 for today in weekName:\n",
    "2     print('今天是', today)\n",
    "3     if (today == '星期三'):\n",
    "4         break\n",
    "5     print('麻辣鍋')\n",
    "6 print('逃出ㄌ麻辣鍋地獄')\n",
    "```"
   ]
  },
  {
   "cell_type": "code",
   "execution_count": 2,
   "metadata": {},
   "outputs": [
    {
     "name": "stdout",
     "output_type": "stream",
     "text": [
      "今天是 星期一\n",
      "麻辣鍋\n",
      "今天是 星期二\n",
      "麻辣鍋\n",
      "今天是 星期三\n",
      "逃出ㄌ麻辣鍋地獄\n"
     ]
    }
   ],
   "source": [
    "i = 0\n",
    "while i < len(weekName):\n",
    "    print('今天是', weekName[i])\n",
    "    if weekName[i] == '星期三':\n",
    "        break\n",
    "    print('麻辣鍋')\n",
    "    i = i+1\n",
    "print('逃出ㄌ麻辣鍋地獄')"
   ]
  },
  {
   "cell_type": "markdown",
   "metadata": {},
   "source": [
    "---"
   ]
  },
  {
   "cell_type": "markdown",
   "metadata": {},
   "source": [
    "## continue: 繼續執行下一次的迴圈運作\n",
    "continue：不會讓迴圈結束；只跳過迴圈內 continue 後面的剩餘敘述，接著繼續執行下一次的迴圈運作。  \n",
    "\n",
    "\n",
    "範例：  \n",
    "小明只有星期三不想吃麻辣鍋，要怎麼印呢？"
   ]
  },
  {
   "cell_type": "code",
   "execution_count": 52,
   "metadata": {},
   "outputs": [
    {
     "name": "stdout",
     "output_type": "stream",
     "text": [
      "今天是 星期一\n",
      "麻辣鍋\n",
      "今天是 星期二\n",
      "麻辣鍋\n",
      "今天是 星期三\n",
      "今天是 星期四\n",
      "麻辣鍋\n",
      "今天是 星期五\n",
      "麻辣鍋\n",
      "今天是 星期六\n",
      "麻辣鍋\n",
      "今天是 星期日\n",
      "麻辣鍋\n"
     ]
    }
   ],
   "source": [
    "for today in weekName:\n",
    "    print('今天是', today)\n",
    "    if (today == '星期三'):\n",
    "        continue\n",
    "    print('麻辣鍋')"
   ]
  },
  {
   "cell_type": "markdown",
   "metadata": {},
   "source": [
    "```\n",
    "1 for today in weekName:\n",
    "2     print('今天是', today)\n",
    "3     if (today == '星期三'):\n",
    "4         continue\n",
    "5     print('麻辣鍋')\n",
    "6 print('逃出ㄌ麻辣鍋地獄')\n",
    "```"
   ]
  },
  {
   "cell_type": "markdown",
   "metadata": {},
   "source": [
    "### continue後面的程式碼將不會執行，而是直接進到下一次迴圈\n",
    "範例：小明吃得到焦糖布丁嗎？"
   ]
  },
  {
   "cell_type": "code",
   "execution_count": 53,
   "metadata": {},
   "outputs": [
    {
     "name": "stdout",
     "output_type": "stream",
     "text": [
      "今天是 星期一\n",
      "麻辣鍋\n",
      "今天是 星期二\n",
      "麻辣鍋\n",
      "今天是 星期三\n",
      "今天是 星期四\n",
      "麻辣鍋\n",
      "今天是 星期五\n",
      "麻辣鍋\n",
      "今天是 星期六\n",
      "麻辣鍋\n",
      "今天是 星期日\n",
      "麻辣鍋\n"
     ]
    }
   ],
   "source": [
    "for today in weekName:\n",
    "    print('今天是', today)\n",
    "    if (today == '星期三'):\n",
    "        continue\n",
    "        print('今天星期三，來ㄘ焦糖布丁')    # 這行程式碼會印出來嗎？\n",
    "    print('麻辣鍋')"
   ]
  },
  {
   "cell_type": "markdown",
   "metadata": {},
   "source": [
    "---"
   ]
  },
  {
   "cell_type": "markdown",
   "metadata": {},
   "source": [
    "### pass: 不做任何事情，所有的程式都將繼續"
   ]
  },
  {
   "cell_type": "code",
   "execution_count": 4,
   "metadata": {},
   "outputs": [
    {
     "name": "stdout",
     "output_type": "stream",
     "text": [
      "今天是 星期一\n",
      "麻辣鍋\n",
      "今天是 星期二\n",
      "麻辣鍋\n",
      "今天是 星期三\n",
      "今天是 星期四\n",
      "麻辣鍋\n",
      "今天是 星期五\n",
      "麻辣鍋\n",
      "今天是 星期六\n",
      "麻辣鍋\n",
      "今天是 星期日\n",
      "麻辣鍋\n"
     ]
    }
   ],
   "source": [
    "for today in weekName:\n",
    "    print('今天是', today)\n",
    "    if (today == '星期三'):\n",
    "        pass\n",
    "    else:\n",
    "        print('麻辣鍋')"
   ]
  },
  {
   "cell_type": "markdown",
   "metadata": {},
   "source": [
    "在迴圈中使用 pass 語句，執行程式後，你會發現什麼事也沒做，完全不起任何作用，只是一個空運算而已，問題就來了：  \n",
    "**那 pass 有什麼用？？？**  \n",
    "\n",
    "在寫程式的時候，有時候想的比實際寫出來的速度快，例如寫一個迴圈，但還沒有實作出來，空著內容不寫又會產生語法錯誤🤦‍♂️，這時就會使用 pass 來替代，當作是個指標，提醒自己之後要來完成。"
   ]
  },
  {
   "cell_type": "code",
   "execution_count": 78,
   "metadata": {},
   "outputs": [],
   "source": [
    "for i in range(10):\n",
    "    pass  # 提醒自己之後來完成"
   ]
  },
  {
   "cell_type": "code",
   "execution_count": 79,
   "metadata": {},
   "outputs": [
    {
     "ename": "SyntaxError",
     "evalue": "unexpected EOF while parsing (<ipython-input-79-e61162350cc4>, line 1)",
     "output_type": "error",
     "traceback": [
      "\u001b[0;36m  File \u001b[0;32m\"<ipython-input-79-e61162350cc4>\"\u001b[0;36m, line \u001b[0;32m1\u001b[0m\n\u001b[0;31m    for i in range(10):\u001b[0m\n\u001b[0m                       ^\u001b[0m\n\u001b[0;31mSyntaxError\u001b[0m\u001b[0;31m:\u001b[0m unexpected EOF while parsing\n"
     ]
    }
   ],
   "source": [
    "for i in range(10):"
   ]
  },
  {
   "cell_type": "markdown",
   "metadata": {},
   "source": [
    "---"
   ]
  },
  {
   "cell_type": "markdown",
   "metadata": {},
   "source": [
    "### 補充：python 特有的 for else\n",
    "python 的 for 迴圈可以帶有一個 else 子句。當迴圈把所有 item 都看完時，else子句會被執行；但迴圈被 break 陳述式終止時，else 則不會執行。  "
   ]
  },
  {
   "cell_type": "code",
   "execution_count": 75,
   "metadata": {},
   "outputs": [
    {
     "name": "stdout",
     "output_type": "stream",
     "text": [
      "星期一\n",
      "星期二\n",
      "星期三\n",
      "星期四\n",
      "星期五\n",
      "星期六\n",
      "星期日\n",
      "一個禮拜結束了\n"
     ]
    }
   ],
   "source": [
    "for day in weekName:\n",
    "    print(day)\n",
    "else:\n",
    "    print('一個禮拜結束了')"
   ]
  },
  {
   "cell_type": "markdown",
   "metadata": {},
   "source": [
    "## 小練習3：判斷使用者輸入的數字是不是質數\n",
    "\n",
    "演算法：  \n",
    "1. 讓使用者輸入正整數 n\n",
    "2. 檢查 n 能否被 2~n-1 中的數字整除\n",
    "3. 可以被整除的話，印出 n 不是質數，並強制結束迴圈\n",
    "4. 直到 n-1 都沒有被整除的話，印出 n 是質數 (for else)"
   ]
  },
  {
   "cell_type": "code",
   "execution_count": null,
   "metadata": {},
   "outputs": [],
   "source": [
    "n = int(input('輸入一個正整數：'))\n",
    "\n",
    "..."
   ]
  },
  {
   "cell_type": "markdown",
   "metadata": {},
   "source": [
    "---"
   ]
  },
  {
   "cell_type": "markdown",
   "metadata": {},
   "source": [
    "# 迴圈包迴圈 aka 兩層以上的for迴圈\n",
    "\n",
    "單層迴圈很好理解，但雙層迴圈可能就要想一下了喔～"
   ]
  },
  {
   "cell_type": "markdown",
   "metadata": {},
   "source": [
    "### 雙層迴圈範例：星星矩陣\n",
    "要如何印出5*5的星星矩陣呢？  \n",
    "期望執行結果：  "
   ]
  },
  {
   "cell_type": "markdown",
   "metadata": {},
   "source": [
    "\\*\\*\\*\\*\\*  \n",
    "\\*\\*\\*\\*\\*  \n",
    "\\*\\*\\*\\*\\*  \n",
    "\\*\\*\\*\\*\\*  \n",
    "\\*\\*\\*\\*\\*  "
   ]
  },
  {
   "cell_type": "markdown",
   "metadata": {},
   "source": [
    "我們可以將過程拆解為兩個步驟：  \n",
    "1. 印出一列星星\n",
    "2. 印出五列星星"
   ]
  },
  {
   "cell_type": "markdown",
   "metadata": {},
   "source": [
    "### 一、印出一排星星"
   ]
  },
  {
   "cell_type": "code",
   "execution_count": 41,
   "metadata": {},
   "outputs": [
    {
     "name": "stdout",
     "output_type": "stream",
     "text": [
      "*****"
     ]
    }
   ],
   "source": [
    "for i in range(5):\n",
    "    print('*', end='')"
   ]
  },
  {
   "cell_type": "markdown",
   "metadata": {},
   "source": [
    "### 二、印出五排星星\n",
    "重複做五次「印出一列星星」，每印一列就換行，就會印出五列星星～\n",
    "\n",
    "[visualize](https://pythontutor.com/visualize.html#mode=edit)"
   ]
  },
  {
   "cell_type": "code",
   "execution_count": 42,
   "metadata": {},
   "outputs": [
    {
     "name": "stdout",
     "output_type": "stream",
     "text": [
      "*****\n",
      "*****\n",
      "*****\n",
      "*****\n",
      "*****\n"
     ]
    }
   ],
   "source": [
    "for i in range(5):\n",
    "    for j in range(5):\n",
    "        print('*', end='')\n",
    "    print()    # 印完一列就換行"
   ]
  },
  {
   "cell_type": "markdown",
   "metadata": {},
   "source": [
    "```\n",
    "加行號版本：\n",
    "1 for i in range(5):\n",
    "2     for j in range(5):\n",
    "3         print('*', end='')\n",
    "4     print()   \n",
    "```"
   ]
  },
  {
   "cell_type": "markdown",
   "metadata": {},
   "source": [
    "### 如果我們故意讓程式慢慢顯示：\n",
    "在印星星的過程中， i 跟 j 是如何變化的呢？讓我們印出來看看"
   ]
  },
  {
   "cell_type": "code",
   "execution_count": 47,
   "metadata": {},
   "outputs": [
    {
     "name": "stdout",
     "output_type": "stream",
     "text": [
      "i=0 | 01234換行\n",
      "i=1 | 01234換行\n",
      "i=2 | 01234換行\n",
      "i=3 | 01234換行\n",
      "i=4 | 01234換行\n"
     ]
    }
   ],
   "source": [
    "for i in range(5):\n",
    "    print(f\"i={i} | \", end='')\n",
    "    for j in range(5):\n",
    "        print(j, end='')\n",
    "    print('換行', end='\\n')"
   ]
  },
  {
   "cell_type": "markdown",
   "metadata": {},
   "source": [
    "---"
   ]
  },
  {
   "cell_type": "markdown",
   "metadata": {},
   "source": [
    "## 小練習4：ㄘ我的九九乘法表辣！\n"
   ]
  },
  {
   "cell_type": "markdown",
   "metadata": {},
   "source": [
    "請印出九九乘法表，範例輸出:  \n",
    "<img src=\"https://imgur.com/KVA0a9w.jpg\" width=\"70%\">  \n",
    "**提示：**\n",
    "1. 請用雙層迴圈\n",
    "2. 每個算式結尾加上 \\t 可以讓排版變漂亮\n",
    "3. print() 可以換行"
   ]
  },
  {
   "cell_type": "code",
   "execution_count": null,
   "metadata": {},
   "outputs": [],
   "source": [
    "...\n",
    "    ...\n",
    "        print(f'{}*{}={}', end='\\t')  # 7*6=42\n",
    "    ..."
   ]
  },
  {
   "cell_type": "markdown",
   "metadata": {},
   "source": [
    "---"
   ]
  },
  {
   "cell_type": "markdown",
   "metadata": {
    "id": "HvDn0ZeX4-S7"
   },
   "source": [
    "# 上次的作業\n",
    "\n",
    "----\n",
    "\n",
    "恭喜你把上面都學完了！難嗎？很難吧XD（畢竟一次教了好多啊）  \n",
    "只寫運算有點無聊，我們來寫個互動的小東西吧！  \n",
    "我們能不能印出一個像素地圖，根據使用者輸入來操控地圖上的小星星呢？  "
   ]
  },
  {
   "cell_type": "markdown",
   "metadata": {
    "id": "5sMLLHKj4-S7"
   },
   "source": [
    "## Demo\n",
    "（請用 `.py` Demo 成果）"
   ]
  },
  {
   "cell_type": "markdown",
   "metadata": {
    "id": "JgXUjV3V4-S7"
   },
   "source": [
    "## 實作 Step 1:\n",
    "\n",
    "接著把小星星印上去～  \n",
    "可以用雙層 for 迴圈，會比較簡單喔"
   ]
  },
  {
   "cell_type": "code",
   "execution_count": null,
   "metadata": {
    "colab": {
     "base_uri": "https://localhost:8080/"
    },
    "executionInfo": {
     "elapsed": 331,
     "status": "ok",
     "timestamp": 1631213646446,
     "user": {
      "displayName": "吳㛢慈",
      "photoUrl": "https://lh3.googleusercontent.com/a-/AOh14GgZMt42RreLJBB2WaXwcbmHlZk7Ertc0iN8jjMs=s64",
      "userId": "16348755729059465136"
     },
     "user_tz": -480
    },
    "id": "GZY1QwLr4-S7",
    "outputId": "4de9ac35-71a7-4748-fd50-4e006651831c"
   },
   "outputs": [
    {
     "name": "stdout",
     "output_type": "stream",
     "text": [
      "----------\n",
      "----------\n",
      "---*------\n",
      "----------\n",
      "----------\n"
     ]
    }
   ],
   "source": [
    "w, h = 10, 5 # 設定寬為 10，高為 5\n",
    "x, y = 2, 3  # 使用者初始位置\n",
    "\n",
    "for ...:\n",
    "    for ...:\n",
    "        # 如果 i, j 跟 x, y 一樣就印 *，否則印 -\n",
    "        print()"
   ]
  },
  {
   "cell_type": "markdown",
   "metadata": {
    "id": "j1DGQ9KS4-S7"
   },
   "source": [
    "預期的結果：\n",
    "```\n",
    "----------\n",
    "----------\n",
    "---*------\n",
    "----------\n",
    "----------\n",
    "```"
   ]
  },
  {
   "cell_type": "markdown",
   "metadata": {
    "id": "rFnZcA5z4-S8"
   },
   "source": [
    "## 實作 Step 2:\n",
    "\n",
    "恭喜你已經可以印出地圖了！！！  \n",
    "那就把它全部融進來，讓使用者移動星星吧！"
   ]
  },
  {
   "cell_type": "code",
   "execution_count": null,
   "metadata": {
    "id": "-jU15J6f4-S8"
   },
   "outputs": [],
   "source": [
    "# from IPython.display import clear_output # 先不要管他"
   ]
  },
  {
   "cell_type": "code",
   "execution_count": null,
   "metadata": {
    "colab": {
     "base_uri": "https://localhost:8080/"
    },
    "executionInfo": {
     "elapsed": 21017,
     "status": "ok",
     "timestamp": 1631213675663,
     "user": {
      "displayName": "吳㛢慈",
      "photoUrl": "https://lh3.googleusercontent.com/a-/AOh14GgZMt42RreLJBB2WaXwcbmHlZk7Ertc0iN8jjMs=s64",
      "userId": "16348755729059465136"
     },
     "user_tz": -480
    },
    "id": "wEiL-Uyu4-S8",
    "outputId": "214404d4-cabf-4d29-d8ea-f9e4f20a09a4"
   },
   "outputs": [
    {
     "name": "stdout",
     "output_type": "stream",
     "text": [
      "當前座標： ( 2 , 3 )\n",
      "----------\n",
      "----------\n",
      "----------\n",
      "--*-------\n",
      "----------\n",
      "按 W/A/S/D 來移動星星(q 結束)！ s\n",
      "當前座標： ( 2 , 4 )\n",
      "----------\n",
      "----------\n",
      "----------\n",
      "----------\n",
      "--*-------\n",
      "按 W/A/S/D 來移動星星(q 結束)！ s\n",
      "當前座標： ( 2 , 4 )\n",
      "----------\n",
      "----------\n",
      "----------\n",
      "----------\n",
      "--*-------\n",
      "按 W/A/S/D 來移動星星(q 結束)！ a\n",
      "當前座標： ( 1 , 4 )\n",
      "----------\n",
      "----------\n",
      "----------\n",
      "----------\n",
      "-*--------\n",
      "按 W/A/S/D 來移動星星(q 結束)！ a\n",
      "當前座標： ( 0 , 4 )\n",
      "----------\n",
      "----------\n",
      "----------\n",
      "----------\n",
      "*---------\n",
      "按 W/A/S/D 來移動星星(q 結束)！ a\n",
      "當前座標： ( 0 , 4 )\n",
      "----------\n",
      "----------\n",
      "----------\n",
      "----------\n",
      "*---------\n",
      "按 W/A/S/D 來移動星星(q 結束)！ w\n",
      "當前座標： ( 0 , 3 )\n",
      "----------\n",
      "----------\n",
      "----------\n",
      "*---------\n",
      "----------\n",
      "按 W/A/S/D 來移動星星(q 結束)！ w\n",
      "當前座標： ( 0 , 2 )\n",
      "----------\n",
      "----------\n",
      "*---------\n",
      "----------\n",
      "----------\n",
      "按 W/A/S/D 來移動星星(q 結束)！ w\n",
      "當前座標： ( 0 , 1 )\n",
      "----------\n",
      "*---------\n",
      "----------\n",
      "----------\n",
      "----------\n",
      "按 W/A/S/D 來移動星星(q 結束)！ w\n",
      "當前座標： ( 0 , 0 )\n",
      "*---------\n",
      "----------\n",
      "----------\n",
      "----------\n",
      "----------\n",
      "按 W/A/S/D 來移動星星(q 結束)！ w\n",
      "當前座標： ( 0 , 0 )\n",
      "*---------\n",
      "----------\n",
      "----------\n",
      "----------\n",
      "----------\n",
      "按 W/A/S/D 來移動星星(q 結束)！ d\n",
      "當前座標： ( 1 , 0 )\n",
      "-*--------\n",
      "----------\n",
      "----------\n",
      "----------\n",
      "----------\n",
      "按 W/A/S/D 來移動星星(q 結束)！ q\n"
     ]
    }
   ],
   "source": [
    "# 程式設定\n",
    "w, h = 10, 5  # 地圖寬高\n",
    "x, y = 2, 3   # 使用者位置\n",
    "\n",
    "while True:\n",
    "    # clear_output() # 清除前一步內容(若輸入條會消失請移除此行)\n",
    "    \n",
    "    print('當前座標： (', x, ',', y, ')')\n",
    "    # 印出地圖 (step 2)\n",
    "    print(...)\n",
    "    \n",
    "    # 讀取使用者指令\n",
    "    control = input('按 W/A/S/D 來移動星星(q 結束)！ ')\n",
    "    control = control.lower()\n",
    "    \n",
    "    # 更新使用者位置\n",
    "    if ...:   # w 往上\n",
    "        ...\n",
    "    elif ...: # s 往下\n",
    "        ...\n",
    "    elif ...: # a 往左\n",
    "        ...\n",
    "    elif ...: # d 往右\n",
    "        ...\n",
    "    elif ...: # q 結束\n",
    "        ..."
   ]
  },
  {
   "cell_type": "markdown",
   "metadata": {
    "id": "z2bf4yTULTe4"
   },
   "source": [
    "## 作業繳交\n",
    "\n",
    "繳交方法：\n",
    "1. 將你 step 2 的程式碼複製起來，利用記事本存成 `{你的學號.py}` (e.g., `109062537.py`)並妥善保存。\n",
    "2. 下週會用 Google 開啟作業分享區，屆時請大家再行上傳。"
   ]
  },
  {
   "cell_type": "markdown",
   "metadata": {},
   "source": [
    "---"
   ]
  },
  {
   "cell_type": "markdown",
   "metadata": {},
   "source": [
    "reference: \n",
    "- https://docs.python.org/zh-tw/3/tutorial/controlflow.html#for-statements\n",
    "- [Python 簡易理解雙層for迴圈-初學者系列](https://medium.com/%E8%AA%A4%E9%97%96%E6%95%B8%E6%93%9A%E5%8F%A2%E6%9E%97%E7%9A%84%E5%95%86%E7%AE%A1%E4%BA%BAzino/python-%E7%B0%A1%E6%98%93%E7%90%86%E8%A7%A3%E9%9B%99%E5%B1%A4for%E8%BF%B4%E5%9C%88-%E5%88%9D%E5%AD%B8%E8%80%85%E7%B3%BB%E5%88%97-f595d6816b65)\n",
    "- [1 分鐘搞懂 Python 迴圈控制：break、continue、pass](https://medium.com/@chiayinchen/1-%E5%88%86%E9%90%98%E6%90%9E%E6%87%82-python-%E8%BF%B4%E5%9C%88%E6%8E%A7%E5%88%B6-break-continue-pass-be290cd1f9d8)"
   ]
  }
 ],
 "metadata": {
  "kernelspec": {
   "display_name": "Python 3",
   "language": "python",
   "name": "python3"
  },
  "language_info": {
   "codemirror_mode": {
    "name": "ipython",
    "version": 3
   },
   "file_extension": ".py",
   "mimetype": "text/x-python",
   "name": "python",
   "nbconvert_exporter": "python",
   "pygments_lexer": "ipython3",
   "version": "3.8.10"
  }
 },
 "nbformat": 4,
 "nbformat_minor": 4
}
