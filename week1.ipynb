{
 "cells": [
  {
   "cell_type": "markdown",
   "metadata": {},
   "source": [
    "## 所有程式語言的第一步：「Hello World」\n",
    "\n",
    "幾乎所有程式語言的第一堂課都是「Hello World」，也會使用「Hello World」作為第一個範例。  \n",
    "為什麼是這句話呢？起源至今難以確認，不過倒是留下一些浪漫(可怕？)的傳說：  \n",
    "\n",
    "*希望所有的程式語言*  \n",
    "*或是說機器*  \n",
    "*都會對世界說hello*  \n",
    "*而不是terminated*  \n",
    "Python自然也不例外。"
   ]
  },
  {
   "cell_type": "markdown",
   "metadata": {},
   "source": [
    "# `Print()` 函數\n",
    "在 Python 中，我們常常會需要將既有的數值輸出到電腦螢幕上，以便程式的測試等工作。這種時候，print() 函數就可以發揮它無比強大的功用。"
   ]
  },
  {
   "cell_type": "code",
   "execution_count": 67,
   "metadata": {},
   "outputs": [
    {
     "name": "stdout",
     "output_type": "stream",
     "text": [
      "3\n"
     ]
    }
   ],
   "source": [
    "print(3)"
   ]
  },
  {
   "cell_type": "code",
   "execution_count": 68,
   "metadata": {},
   "outputs": [
    {
     "name": "stdout",
     "output_type": "stream",
     "text": [
      "Hello World\n"
     ]
    }
   ],
   "source": [
    "print(\"Hello World\")"
   ]
  },
  {
   "cell_type": "markdown",
   "metadata": {},
   "source": [
    "在 print() 函數中，用逗號將要印出的東西分開，Python 將會自動將各個變數連結起來並印出："
   ]
  },
  {
   "cell_type": "code",
   "execution_count": 76,
   "metadata": {},
   "outputs": [
    {
     "name": "stdout",
     "output_type": "stream",
     "text": [
      "Hello World\n"
     ]
    }
   ],
   "source": [
    "print(\"Hello\", \"World\")"
   ]
  },
  {
   "cell_type": "code",
   "execution_count": 75,
   "metadata": {},
   "outputs": [
    {
     "name": "stdout",
     "output_type": "stream",
     "text": [
      "total cost: 50\n"
     ]
    }
   ],
   "source": [
    "print(\"total cost:\", 50)"
   ]
  },
  {
   "cell_type": "markdown",
   "metadata": {},
   "source": [
    "### sep 參數\n",
    "\n",
    "我們可以從上面的例子看到，Python 自動在 Hello 與 World 兩個字中間加入了一個空格。那如果今天不使用空格將兩個字分開呢？如果現在我們想要用「|」來分隔兩個變數，那麼我們可以寫："
   ]
  },
  {
   "cell_type": "code",
   "execution_count": 77,
   "metadata": {},
   "outputs": [
    {
     "name": "stdout",
     "output_type": "stream",
     "text": [
      "Hello|World\n"
     ]
    }
   ],
   "source": [
    "print(\"Hello\", \"World\", sep=\"|\")"
   ]
  },
  {
   "cell_type": "markdown",
   "metadata": {},
   "source": [
    "### end 參數\n",
    "\n",
    "除了 sep 參數之外，end 也是一個 print() 時常常使用的參數。假設今天我想要將每個 print() 的結尾處加上一個逗號「.」，我們可以這樣寫：\n"
   ]
  },
  {
   "cell_type": "code",
   "execution_count": 78,
   "metadata": {},
   "outputs": [
    {
     "name": "stdout",
     "output_type": "stream",
     "text": [
      "Hello.World."
     ]
    }
   ],
   "source": [
    "print(\"Hello\", end=\".\")\n",
    "print(\"World\", end=\".\")"
   ]
  },
  {
   "cell_type": "code",
   "execution_count": 79,
   "metadata": {},
   "outputs": [
    {
     "name": "stdout",
     "output_type": "stream",
     "text": [
      "Hello.\n",
      "World."
     ]
    }
   ],
   "source": [
    "print(\"Hello\", end=\".\\n\")\n",
    "print(\"World\", end=\".\")"
   ]
  },
  {
   "cell_type": "markdown",
   "metadata": {},
   "source": [
    "---"
   ]
  },
  {
   "cell_type": "markdown",
   "metadata": {},
   "source": [
    "### 跳脫字元\n",
    "在 Python 中，使用單引號（'）或雙引號（\"）包起來的資料都是字串。然而，如果需要印出單引號或某些符號時，則必須以 \\ 來跳脫（escape）處理，避免被誤認為字串結束。"
   ]
  },
  {
   "cell_type": "code",
   "execution_count": 80,
   "metadata": {},
   "outputs": [
    {
     "ename": "SyntaxError",
     "evalue": "invalid syntax (<ipython-input-80-6a3a2d528ad3>, line 1)",
     "output_type": "error",
     "traceback": [
      "\u001b[0;36m  File \u001b[0;32m\"<ipython-input-80-6a3a2d528ad3>\"\u001b[0;36m, line \u001b[0;32m1\u001b[0m\n\u001b[0;31m    print('I'm Eric.')\u001b[0m\n\u001b[0m             ^\u001b[0m\n\u001b[0;31mSyntaxError\u001b[0m\u001b[0;31m:\u001b[0m invalid syntax\n"
     ]
    }
   ],
   "source": [
    "print('I'm Eric.')"
   ]
  },
  {
   "cell_type": "code",
   "execution_count": 81,
   "metadata": {},
   "outputs": [
    {
     "name": "stdout",
     "output_type": "stream",
     "text": [
      "I'm Eric.\n"
     ]
    }
   ],
   "source": [
    "print('I\\'m Eric.')"
   ]
  },
  {
   "cell_type": "markdown",
   "metadata": {},
   "source": [
    "**常見的跳脫字元：**  \n",
    "\\\\\\ 反斜線符號 (\\)  \n",
    "\\\\' 單引號 (')  \n",
    "\\\\\" 雙引號 (\")  \n",
    "\\\\b 空格符號  \n",
    "\\\\f 換⾴符號  \n",
    "\\\\n 換⾏符號  \n",
    "\\\\r 返回符號  \n",
    "\\\\t ⽔平縮排符號 (TAB)"
   ]
  },
  {
   "cell_type": "markdown",
   "metadata": {},
   "source": [
    "---"
   ]
  },
  {
   "cell_type": "markdown",
   "metadata": {},
   "source": [
    "# Values and types"
   ]
  },
  {
   "cell_type": "markdown",
   "metadata": {},
   "source": [
    "### **資料值 (Value)**\n",
    "- 資料值是程式處理的基礎項目之一\n",
    "- 例如：整數 5 或字串 'Hello world'"
   ]
  },
  {
   "cell_type": "markdown",
   "metadata": {},
   "source": [
    "### **基本資料型態 (Data Type)：不同的資料值屬於不同的資料型態**\n",
    "- 整數 (Integer)：例如 5\n",
    "- 浮點數 (Floating point, Float)：亦即「實數」，因小數點可以浮動，因此稱為浮點數\n",
    "     - 3.2, 8.9\n",
    "- 字串(String): 由一連串的字元組成，並且由兩個單引號或雙引號所包含\n",
    "    - 'Hello world', '17', '3.2', \"這是一個字串\", '這也是一個字串'\n",
    "- 布林(Boolean): 只有兩個值，「真」(True) 與「偽」(False)\n",
    "- List: 列表是（不同的）資料型別的元素的有序序列。你可以使用方括號 [] 在建立列表，並在方括號內使用逗號分隔列表項。\n",
    "    - [1, 2, 3], ['the', 'clown', 'ran', 'after', 'the', 'car']\n",
    "    - list()可以把其他data structure(tuple, set)轉為list"
   ]
  },
  {
   "cell_type": "code",
   "execution_count": 2,
   "metadata": {},
   "outputs": [
    {
     "data": {
      "text/plain": [
       "int"
      ]
     },
     "execution_count": 2,
     "metadata": {},
     "output_type": "execute_result"
    }
   ],
   "source": [
    "type(17)"
   ]
  },
  {
   "cell_type": "code",
   "execution_count": 4,
   "metadata": {},
   "outputs": [
    {
     "data": {
      "text/plain": [
       "str"
      ]
     },
     "execution_count": 4,
     "metadata": {},
     "output_type": "execute_result"
    }
   ],
   "source": [
    "type('\"duck\"不必')"
   ]
  },
  {
   "cell_type": "code",
   "execution_count": 3,
   "metadata": {},
   "outputs": [
    {
     "data": {
      "text/plain": [
       "float"
      ]
     },
     "execution_count": 3,
     "metadata": {},
     "output_type": "execute_result"
    }
   ],
   "source": [
    "type(3.2)"
   ]
  },
  {
   "cell_type": "code",
   "execution_count": 6,
   "metadata": {},
   "outputs": [
    {
     "data": {
      "text/plain": [
       "bool"
      ]
     },
     "execution_count": 6,
     "metadata": {},
     "output_type": "execute_result"
    }
   ],
   "source": [
    "type(True)"
   ]
  },
  {
   "cell_type": "code",
   "execution_count": 24,
   "metadata": {},
   "outputs": [
    {
     "data": {
      "text/plain": [
       "list"
      ]
     },
     "execution_count": 24,
     "metadata": {},
     "output_type": "execute_result"
    }
   ],
   "source": [
    "type([2, 4.5, \"blue\"])"
   ]
  },
  {
   "cell_type": "markdown",
   "metadata": {},
   "source": [
    "### List取值方式："
   ]
  },
  {
   "cell_type": "code",
   "execution_count": 64,
   "metadata": {},
   "outputs": [],
   "source": [
    "a = [1, 2, 3, 4, 5]"
   ]
  },
  {
   "cell_type": "code",
   "execution_count": 59,
   "metadata": {},
   "outputs": [
    {
     "name": "stdout",
     "output_type": "stream",
     "text": [
      "1\n"
     ]
    }
   ],
   "source": [
    "print(a[0])"
   ]
  },
  {
   "cell_type": "code",
   "execution_count": 65,
   "metadata": {},
   "outputs": [
    {
     "name": "stdout",
     "output_type": "stream",
     "text": [
      "[2, 3]\n"
     ]
    }
   ],
   "source": [
    "print(a[1:3])"
   ]
  },
  {
   "cell_type": "code",
   "execution_count": 66,
   "metadata": {},
   "outputs": [
    {
     "name": "stdout",
     "output_type": "stream",
     "text": [
      "5\n"
     ]
    }
   ],
   "source": [
    "print(a[-1])"
   ]
  },
  {
   "cell_type": "markdown",
   "metadata": {},
   "source": [
    "### 取出字串部分內容："
   ]
  },
  {
   "cell_type": "code",
   "execution_count": 82,
   "metadata": {},
   "outputs": [
    {
     "name": "stdout",
     "output_type": "stream",
     "text": [
      "a\n"
     ]
    }
   ],
   "source": [
    "print('abc'[0])"
   ]
  },
  {
   "cell_type": "code",
   "execution_count": 83,
   "metadata": {},
   "outputs": [
    {
     "name": "stdout",
     "output_type": "stream",
     "text": [
      "cde\n"
     ]
    }
   ],
   "source": [
    "print('abcdefg'[2:5])"
   ]
  },
  {
   "cell_type": "markdown",
   "metadata": {},
   "source": [
    "---"
   ]
  },
  {
   "cell_type": "code",
   "execution_count": 60,
   "metadata": {},
   "outputs": [
    {
     "name": "stdout",
     "output_type": "stream",
     "text": [
      "['a', 'b', 'c']\n"
     ]
    }
   ],
   "source": [
    "# string to list\n",
    "print(list('abc'))"
   ]
  },
  {
   "cell_type": "markdown",
   "metadata": {},
   "source": [
    "---"
   ]
  },
  {
   "cell_type": "markdown",
   "metadata": {},
   "source": [
    "# Variables 變數"
   ]
  },
  {
   "cell_type": "markdown",
   "metadata": {},
   "source": [
    "- 數學：變數是代表要求解的未知符號，例如x和y\n",
    "- 程式設計：變數的用途是儲存資料，並不是未知數。"
   ]
  },
  {
   "cell_type": "markdown",
   "metadata": {},
   "source": [
    "變數是具有名稱和值 (Value) 的記憶體位置。  \n",
    "變數需有唯一的名稱, 以便來區分不同的記憶體位置。\n",
    "\n",
    "在 Python 中, 在使用該變數之前不需要宣告變數 (指定資料型別)。  \n",
    "如果要新建變數, 只需賦予該變數一個有效的名稱, 並使用賦值運算子`=`為其賦值。  \n",
    "變數的資料型別將根據分配給它的值的型別自動來定義。"
   ]
  },
  {
   "cell_type": "markdown",
   "metadata": {},
   "source": [
    "**Assignment statement : 可以建立新的變數(Variable)，並設定其值(Value)，語法如下:**\n",
    "\n",
    "**`<variable> = <expr>`**\n",
    "- variable ：變數名稱，是一個識別字\n",
    "- expr ：表示式，可以是一個值或一個運算式"
   ]
  },
  {
   "cell_type": "code",
   "execution_count": 25,
   "metadata": {},
   "outputs": [],
   "source": [
    "# Assignment statements\n",
    "message = 'And now for something completely different'\n",
    "n = 17\n",
    "pi = 3.1415926535897932"
   ]
  },
  {
   "cell_type": "markdown",
   "metadata": {},
   "source": [
    "變數的type就是變數值的type : "
   ]
  },
  {
   "cell_type": "code",
   "execution_count": 11,
   "metadata": {},
   "outputs": [
    {
     "data": {
      "text/plain": [
       "str"
      ]
     },
     "execution_count": 11,
     "metadata": {},
     "output_type": "execute_result"
    }
   ],
   "source": [
    "type(message)"
   ]
  },
  {
   "cell_type": "code",
   "execution_count": 12,
   "metadata": {},
   "outputs": [
    {
     "data": {
      "text/plain": [
       "int"
      ]
     },
     "execution_count": 12,
     "metadata": {},
     "output_type": "execute_result"
    }
   ],
   "source": [
    "type(n)"
   ]
  },
  {
   "cell_type": "code",
   "execution_count": 13,
   "metadata": {},
   "outputs": [
    {
     "data": {
      "text/plain": [
       "float"
      ]
     },
     "execution_count": 13,
     "metadata": {},
     "output_type": "execute_result"
    }
   ],
   "source": [
    "type(pi)"
   ]
  },
  {
   "cell_type": "markdown",
   "metadata": {},
   "source": [
    "---"
   ]
  },
  {
   "cell_type": "markdown",
   "metadata": {},
   "source": [
    "Python 變數的特性: **動態資料型別**，只要Assignment statement的資料型態改變，變數的資料型態就改變"
   ]
  },
  {
   "cell_type": "code",
   "execution_count": 16,
   "metadata": {},
   "outputs": [],
   "source": [
    "pi = 'pi'"
   ]
  },
  {
   "cell_type": "code",
   "execution_count": 17,
   "metadata": {},
   "outputs": [
    {
     "data": {
      "text/plain": [
       "str"
      ]
     },
     "execution_count": 17,
     "metadata": {},
     "output_type": "execute_result"
    }
   ],
   "source": [
    "type(pi)"
   ]
  },
  {
   "cell_type": "markdown",
   "metadata": {},
   "source": [
    "---"
   ]
  },
  {
   "cell_type": "markdown",
   "metadata": {},
   "source": [
    "# 變數命名規則"
   ]
  },
  {
   "cell_type": "markdown",
   "metadata": {},
   "source": [
    "- 以英文字母或底線開頭，之後可以接字母、數字、或底線，例如： phone, mobile_phone, mobilePhone, mobilePhone2, ...  \n",
    "- 英文字母大小寫有別 (Case-sensitive) ，因此 address, Address, aDDress, 與 ADDRESS 均為不同的識別字  \n",
    "- *建議依據 coding style 統一命名風格*"
   ]
  },
  {
   "cell_type": "code",
   "execution_count": 21,
   "metadata": {},
   "outputs": [
    {
     "ename": "SyntaxError",
     "evalue": "invalid syntax (<ipython-input-21-ee59a172c534>, line 1)",
     "output_type": "error",
     "traceback": [
      "\u001b[0;36m  File \u001b[0;32m\"<ipython-input-21-ee59a172c534>\"\u001b[0;36m, line \u001b[0;32m1\u001b[0m\n\u001b[0;31m    76trombones = 'big parade'\u001b[0m\n\u001b[0m      ^\u001b[0m\n\u001b[0;31mSyntaxError\u001b[0m\u001b[0;31m:\u001b[0m invalid syntax\n"
     ]
    }
   ],
   "source": [
    "76trombones = 'big parade'"
   ]
  },
  {
   "cell_type": "markdown",
   "metadata": {},
   "source": [
    "## [Python Keywords](https://realpython.com/python-keywords/)"
   ]
  },
  {
   "cell_type": "markdown",
   "metadata": {},
   "source": [
    "Keywords 是具有特殊含義，而且不能用於命名任何變數、函式、類等的預先內部佔用的字元。  \n",
    "關鍵字也被稱為保留字，它們實際上是為 Python 的自身的功能保留的。"
   ]
  },
  {
   "cell_type": "code",
   "execution_count": 23,
   "metadata": {},
   "outputs": [
    {
     "ename": "SyntaxError",
     "evalue": "invalid syntax (<ipython-input-23-73fc4ce1a15a>, line 1)",
     "output_type": "error",
     "traceback": [
      "\u001b[0;36m  File \u001b[0;32m\"<ipython-input-23-73fc4ce1a15a>\"\u001b[0;36m, line \u001b[0;32m1\u001b[0m\n\u001b[0;31m    class = 'Advanced Theoretical Zymurgy'\u001b[0m\n\u001b[0m          ^\u001b[0m\n\u001b[0;31mSyntaxError\u001b[0m\u001b[0;31m:\u001b[0m invalid syntax\n"
     ]
    }
   ],
   "source": [
    "class = 'Advanced Theoretical Zymurgy'"
   ]
  },
  {
   "cell_type": "markdown",
   "metadata": {},
   "source": [
    "---"
   ]
  },
  {
   "cell_type": "markdown",
   "metadata": {},
   "source": [
    "## 運算子跟運算元 (Operators & Operands) \n",
    "- **<font size = \"4\">運算子 (Operators)** \n",
    "    <ol style=\"line-height:2.5\">  \n",
    "        <li>+</li>  \n",
    "        <li>-</li>  \n",
    "        <li>*</li>     \n",
    "        <li>/：除法，會有小數點，資料型別會變<b>浮點數</b> (float)</li>    \n",
    "        <li>//：整除，資料型別會是整數 (int)</li>  \n",
    "        <li>%：取餘數</li>  \n",
    "        <li>**：次方 (power), 跟使用 pow() 相同</li>\n",
    "    </ol>\n",
    "     \n",
    "- **<font size =\"4\">運算元 (Operands)**  \n",
    "   <div style=\"line-height:2.5\">\n",
    "   1 + 1 = 2  </br>\n",
    "   1 跟 2 都是 <b>運算元 (operands)</b>\n",
    "   </div>"
   ]
  },
  {
   "cell_type": "code",
   "execution_count": null,
   "metadata": {},
   "outputs": [],
   "source": [
    "# 加法：計算總共花費金額\n",
    "chocolate = 80\n",
    "bubble_tea = 50\n",
    "cookies = 30\n",
    "\n",
    "total_price = chocolate + bubble_tea + cookies\n",
    "\n",
    "print(total_price)"
   ]
  },
  {
   "cell_type": "code",
   "execution_count": null,
   "metadata": {},
   "outputs": [],
   "source": [
    "# 減法：計算 Diane 花費的金額\n",
    "Diane_cost = total_price - cookies\n",
    "print(Diane_cost)"
   ]
  },
  {
   "cell_type": "code",
   "execution_count": null,
   "metadata": {},
   "outputs": [],
   "source": [
    "# 乘法：計算三杯珍奶金額\n",
    "drinks = bubble_tea * 3\n",
    "print(drinks)"
   ]
  },
  {
   "cell_type": "code",
   "execution_count": null,
   "metadata": {},
   "outputs": [],
   "source": [
    "# 除法：計算每個人午餐平均花費金額\n",
    "lunch_bill = 540\n",
    "lunch_per_person = lunch_bill / 3\n",
    "\n",
    "print(lunch_per_person)\n",
    "# print(type(lunch_per_person))"
   ]
  },
  {
   "cell_type": "code",
   "execution_count": null,
   "metadata": {},
   "outputs": [],
   "source": [
    "# 0 可以放在分母嗎？\n",
    "print(0 / 2)\n",
    "\n",
    "# 如果除以 0 會得到什麼？ \n",
    "# print(2 / 0) "
   ]
  },
  {
   "cell_type": "code",
   "execution_count": null,
   "metadata": {},
   "outputs": [],
   "source": [
    "# 整除：計算每個人晚餐花費金額\n",
    "dinner_bill = 540\n",
    "dinner_per_person = dinner_bill // 3\n",
    "\n",
    "print(dinner_per_person)\n",
    "# print(type(dinner_per_person))"
   ]
  },
  {
   "cell_type": "code",
   "execution_count": null,
   "metadata": {},
   "outputs": [],
   "source": [
    "# 取餘數\n",
    "num_toys = 29\n",
    "children = 13\n",
    "\n",
    "num_left = 29 % 13\n",
    "print(num_left)"
   ]
  },
  {
   "cell_type": "code",
   "execution_count": null,
   "metadata": {},
   "outputs": [],
   "source": [
    "# 次方計算：算正方形面積\n",
    "square_length = 5\n",
    "square_area = square_length ** 2\n",
    "\n",
    "power = pow(square_length, 2)\n",
    "\n",
    "print(square_area)\n",
    "print(power)"
   ]
  },
  {
   "cell_type": "code",
   "execution_count": null,
   "metadata": {},
   "outputs": [],
   "source": [
    "# 次方結合乘法\n",
    "pi = 3.1415926\n",
    "radius = 9\n",
    "circle_area = radius ** 2 * pi\n",
    "\n",
    "print(circle_area)"
   ]
  },
  {
   "cell_type": "code",
   "execution_count": null,
   "metadata": {},
   "outputs": [],
   "source": [
    "0/1"
   ]
  },
  {
   "cell_type": "markdown",
   "metadata": {},
   "source": [
    "---"
   ]
  },
  {
   "cell_type": "markdown",
   "metadata": {},
   "source": [
    "## 正 / 負無窮大跟 NaN (Infiniy and Not a number) \n",
    "<ul style=\"line-height:2.5\">\n",
    "    <li>正 / 負無窮大</br>\n",
    "        若運算時無法確定仍為正 / 負無窮大，就會是 NaN</li>\n",
    "    <li>NaN 代表無法被表示的數值</br>\n",
    "        有 NaN 參與的運算結果一定也是 NaN</li>\n",
    "</ul>"
   ]
  },
  {
   "cell_type": "code",
   "execution_count": null,
   "metadata": {},
   "outputs": [],
   "source": [
    "pos_inf = float(\"inf\")\n",
    "print(\"正無窮大: \", pos_inf, \"\\n\")\n",
    "\n",
    "neg_inf = float(\"-inf\")\n",
    "print(\"負無窮大: \", neg_inf, \"\\n\")\n",
    "\n",
    "not_a_num = float('nan')\n",
    "print(\"Not a number: \", not_a_num, \"\\n\")"
   ]
  },
  {
   "cell_type": "code",
   "execution_count": null,
   "metadata": {},
   "outputs": [],
   "source": [
    "print(\"正無窮大 * 0: \", pos_inf * 0)"
   ]
  },
  {
   "cell_type": "code",
   "execution_count": null,
   "metadata": {},
   "outputs": [],
   "source": [
    "print(\"正無窮大 - 負無窮大:\", pos_inf - neg_inf)"
   ]
  },
  {
   "cell_type": "code",
   "execution_count": null,
   "metadata": {},
   "outputs": [],
   "source": [
    "print(\"正無窮大 + 負無窮大: \", pos_inf + neg_inf)"
   ]
  },
  {
   "cell_type": "code",
   "execution_count": null,
   "metadata": {},
   "outputs": [],
   "source": [
    "print(\"正無窮大 * 負無窮大: \", pos_inf * neg_inf)"
   ]
  },
  {
   "cell_type": "code",
   "execution_count": null,
   "metadata": {},
   "outputs": [],
   "source": [
    "print(\"正無窮大 / 負無窮大: \", pos_inf / neg_inf)"
   ]
  },
  {
   "cell_type": "code",
   "execution_count": null,
   "metadata": {},
   "outputs": [],
   "source": [
    "print(\"NaN * 0: \", not_a_num * 0)"
   ]
  },
  {
   "cell_type": "code",
   "execution_count": null,
   "metadata": {},
   "outputs": [],
   "source": [
    "print(\"正無窮大 / NaN: \", pos_inf / not_a_num)"
   ]
  },
  {
   "cell_type": "markdown",
   "metadata": {},
   "source": [
    "---\n",
    "## 計算順序 (Order of operations)\n",
    "\n",
    "- **優先規則 (Rules of precedence)**\n",
    "<ul style=\"line-height:2.5\">\n",
    "    <li>多個運算子 (Operator) 出現在一個 expression 裡面時</br>  \n",
    "        遵守<b>優先規則</b> (rules of precedence) <b>PEMDAS</b>\n",
    "    </li>\n",
    "</ul>"
   ]
  },
  {
   "cell_type": "markdown",
   "metadata": {},
   "source": [
    "---\n",
    "#### PEMDAS\n",
    "<ul style=\"line-height:2.5\">\n",
    "    <li>括號 (<b>P</b>arentheses)：</br> \n",
    "     優先權 <b>最高</b>，可用於確保執行順序，也可用於增加易讀性\n",
    "</ul>"
   ]
  },
  {
   "cell_type": "code",
   "execution_count": null,
   "metadata": {},
   "outputs": [],
   "source": [
    "a = 2 * (3 - 1)\n",
    "b = 2 * 3 - 1\n",
    "# print(a)\n",
    "# print(b)"
   ]
  },
  {
   "cell_type": "markdown",
   "metadata": {},
   "source": [
    "- 次方 (**E**xponentiation)：第二優先權，比乘法更優先"
   ]
  },
  {
   "cell_type": "code",
   "execution_count": null,
   "metadata": {},
   "outputs": [],
   "source": [
    "c = 3 * 1 ** 3\n",
    "# print(c)"
   ]
  },
  {
   "cell_type": "markdown",
   "metadata": {},
   "source": [
    "<ul style=\"line-height:2.5\">\n",
    "    <li>乘法 (<b>M</b>ultiplication), 除法 (<b>D</b>ivision)。</br>\n",
    "    優先於加法 (<b>A</b>ddition), 減法 (<b>S</b>ubstraction)\n",
    "    <li>有一樣優先權的話就從左到右計算</li>\n",
    "    <li>如果不確定優先權，可以用 <b>括號</b> 來確保計算順序正確</li>\n",
    "</ul>"
   ]
  },
  {
   "cell_type": "code",
   "execution_count": null,
   "metadata": {},
   "outputs": [],
   "source": [
    "total_cost = 96000\n",
    "num_class = 8\n",
    "class_student = 40\n",
    "\n",
    "answer_1 = total_cost / num_class * class_student\n",
    "\n",
    "total_students = num_class * class_student\n",
    "answer_2 = total_cost / total_students\n",
    "\n",
    "print(\"Answer 1: \", answer_1)\n",
    "print(\"Answer 2: \", answer_2)"
   ]
  },
  {
   "cell_type": "markdown",
   "metadata": {},
   "source": [
    "---\n",
    "## 字串操作 (String operations)\n",
    "\n",
    "<ul style=\"line-height:2.5\">\n",
    "    <li> +：串連（concatenation）</li>\n",
    "    <li> *：重複 (repetition)</li>\n",
    "</ul>"
   ]
  },
  {
   "cell_type": "code",
   "execution_count": null,
   "metadata": {},
   "outputs": [],
   "source": [
    "First_name = \"Diane\"\n",
    "Last_name = \"Cheng\"\n",
    "\n",
    "full_name = First_name + \" \" + Last_name\n",
    "\n",
    "print(full_name)"
   ]
  },
  {
   "cell_type": "code",
   "execution_count": null,
   "metadata": {},
   "outputs": [],
   "source": [
    "Fish = \"blue...\"\n",
    "say = Fish * 3\n",
    "\n",
    "print(\"Fish: \", say)"
   ]
  },
  {
   "cell_type": "markdown",
   "metadata": {},
   "source": [
    "---"
   ]
  },
  {
   "cell_type": "markdown",
   "metadata": {},
   "source": [
    "# Swap：交換兩變數的值"
   ]
  },
  {
   "cell_type": "markdown",
   "metadata": {},
   "source": [
    "傳統做法：再宣告一個變數將值暫存"
   ]
  },
  {
   "cell_type": "code",
   "execution_count": 40,
   "metadata": {},
   "outputs": [
    {
     "name": "stdout",
     "output_type": "stream",
     "text": [
      "Hello World\n"
     ]
    }
   ],
   "source": [
    "print(a, b)"
   ]
  },
  {
   "cell_type": "code",
   "execution_count": 41,
   "metadata": {},
   "outputs": [],
   "source": [
    "temp = a\n",
    "a = b\n",
    "b = temp"
   ]
  },
  {
   "cell_type": "code",
   "execution_count": 42,
   "metadata": {},
   "outputs": [
    {
     "name": "stdout",
     "output_type": "stream",
     "text": [
      "World Hello\n"
     ]
    }
   ],
   "source": [
    "print(a, b)"
   ]
  },
  {
   "cell_type": "markdown",
   "metadata": {},
   "source": [
    "這個解決方案很麻煩，在python中我們可以優雅的使用`tuple assignment` ："
   ]
  },
  {
   "cell_type": "code",
   "execution_count": 43,
   "metadata": {},
   "outputs": [],
   "source": [
    "a = \"Hello\"\n",
    "b = \"World\""
   ]
  },
  {
   "cell_type": "code",
   "execution_count": 44,
   "metadata": {},
   "outputs": [],
   "source": [
    "# tuple assignment\n",
    "a, b = b, a"
   ]
  },
  {
   "cell_type": "code",
   "execution_count": 45,
   "metadata": {},
   "outputs": [
    {
     "name": "stdout",
     "output_type": "stream",
     "text": [
      "World Hello\n"
     ]
    }
   ],
   "source": [
    "print(a, b)"
   ]
  },
  {
   "cell_type": "markdown",
   "metadata": {},
   "source": [
    "左邊是variables, 右邊是expressions, 每個值(value)分配給各自的變數(variable)  \n",
    "左右兩邊的變數數量必須是相同的："
   ]
  },
  {
   "cell_type": "code",
   "execution_count": 46,
   "metadata": {},
   "outputs": [
    {
     "ename": "ValueError",
     "evalue": "too many values to unpack (expected 2)",
     "output_type": "error",
     "traceback": [
      "\u001b[0;31m---------------------------------------------------------------------------\u001b[0m",
      "\u001b[0;31mValueError\u001b[0m                                Traceback (most recent call last)",
      "\u001b[0;32m<ipython-input-46-8904fd2ea925>\u001b[0m in \u001b[0;36m<module>\u001b[0;34m\u001b[0m\n\u001b[0;32m----> 1\u001b[0;31m \u001b[0ma\u001b[0m\u001b[0;34m,\u001b[0m \u001b[0mb\u001b[0m \u001b[0;34m=\u001b[0m \u001b[0;36m1\u001b[0m\u001b[0;34m,\u001b[0m \u001b[0;36m2\u001b[0m\u001b[0;34m,\u001b[0m \u001b[0;36m3\u001b[0m\u001b[0;34m\u001b[0m\u001b[0;34m\u001b[0m\u001b[0m\n\u001b[0m",
      "\u001b[0;31mValueError\u001b[0m: too many values to unpack (expected 2)"
     ]
    }
   ],
   "source": [
    "a, b = 1, 2, 3"
   ]
  },
  {
   "cell_type": "markdown",
   "metadata": {},
   "source": [
    "其實，tuple assignment 的右側可以是任何類型的 list（string, list or tuple)  \n",
    "例如，要將電子郵件地址拆分為用戶名和域，可以這樣寫："
   ]
  },
  {
   "cell_type": "code",
   "execution_count": 47,
   "metadata": {},
   "outputs": [],
   "source": [
    "addr = 'monty@python.org'\n",
    "uname, domain = addr.split('@')"
   ]
  },
  {
   "cell_type": "code",
   "execution_count": 50,
   "metadata": {},
   "outputs": [
    {
     "name": "stdout",
     "output_type": "stream",
     "text": [
      "monty\n"
     ]
    }
   ],
   "source": [
    "print(uname)"
   ]
  },
  {
   "cell_type": "code",
   "execution_count": 51,
   "metadata": {},
   "outputs": [
    {
     "name": "stdout",
     "output_type": "stream",
     "text": [
      "python.org\n"
     ]
    }
   ],
   "source": [
    "print(domain)"
   ]
  },
  {
   "cell_type": "markdown",
   "metadata": {},
   "source": [
    "split() 的返回值是一個包含兩個元素的 list； 第一個元素分配給 uname，第二個元素分配給 domain"
   ]
  },
  {
   "cell_type": "code",
   "execution_count": 52,
   "metadata": {},
   "outputs": [
    {
     "name": "stdout",
     "output_type": "stream",
     "text": [
      "['monty', 'python.org']\n"
     ]
    }
   ],
   "source": [
    "print(addr.split('@'))"
   ]
  },
  {
   "cell_type": "markdown",
   "metadata": {},
   "source": [
    "---\n",
    "## 註解跟除錯 (Commands & Debugging)\n",
    "\n",
    "- 用來說明該行、該段程式碼的**目的**，而非說明程式碼本身行為\n",
    "- 是給人類看，不是給機器看的\n",
    "- 語法：\\# Comments"
   ]
  },
  {
   "cell_type": "code",
   "execution_count": null,
   "metadata": {},
   "outputs": [],
   "source": [
    "num_suject = 2\n",
    "Chinese = 85\n",
    "Math = 70\n",
    "\n",
    "# 比較不好的註解: 把中文跟數學成績相加，之後再除以 2\n",
    "# 比較好的註解: 計算科目的平均分數\n",
    "average = (Chinese + Math) / num_suject\n",
    "\n",
    "print(\"average: \", average)"
   ]
  },
  {
   "cell_type": "code",
   "execution_count": null,
   "metadata": {},
   "outputs": [],
   "source": [
    "# Error type: invalid syntax\n",
    "Chinese score = 80"
   ]
  },
  {
   "cell_type": "code",
   "execution_count": null,
   "metadata": {},
   "outputs": [],
   "source": [
    "# Error type: name \"...\" is not defined\n",
    "principal = 327.68\n",
    "interest = principle * rate"
   ]
  },
  {
   "cell_type": "code",
   "execution_count": null,
   "metadata": {},
   "outputs": [],
   "source": [
    "# Logical Error\n",
    "pi = 3.1415926\n",
    "\n",
    "wrong_answer = 1 / 2 * pi\n",
    "print(wrong_answer)\n",
    "# right_answer = ?\n",
    "# print(right_answer)"
   ]
  },
  {
   "cell_type": "markdown",
   "metadata": {},
   "source": [
    "---\n",
    "## 練習(一) Practice 1 (10 mins)\n",
    "\n",
    "TODO:\n",
    "1. 首先，計算出每個飲料、甜點的價格\n",
    "2. 分別計算出 Simon 跟 Joanna 所花費的金額是多少？  \n",
    "3. 最後，計算平均每個人花費多少金額"
   ]
  },
  {
   "cell_type": "code",
   "execution_count": null,
   "metadata": {},
   "outputs": [],
   "source": [
    "# TODO 第一題\n",
    "\n",
    "milk_tea = 45\n",
    "print(\"鮮奶茶價格：\", milk_tea)\n",
    "\n",
    "# (1)a 為 5 的 5 次方，再被 123 整除 \n",
    "a = ?\n",
    "bubble_tea = a * 2\n",
    "print(\"珍奶價格：\", bubble_tea)\n",
    "\n",
    "# (2) 150 除以 2 加 25 再取除以 20 的餘數\n",
    "mocha_cake = ?\n",
    "print(\"抹茶蛋糕價格：\", mocha_cake)\n",
    "\n",
    "# 一次買 3 片巧克力餅乾 -> $ 50 \n",
    "choco_cookies = 20 \n",
    "print(\"巧克力餅乾價格：\", mocha_cake)\n",
    "\n",
    "lemon_pie = 75\n",
    "print(\"檸檬蛋糕價格：\", mocha_cake)\n",
    "\n",
    "camele = 55\n",
    "print(\"可麗露價格：\", mocha_cake)"
   ]
  },
  {
   "cell_type": "code",
   "execution_count": null,
   "metadata": {},
   "outputs": [],
   "source": [
    "# Simon: bubble_tea * 2, mocha_cake * 1, camele * 3 \n",
    "simon_cost = ?\n",
    "print(\"Simon 總共花了：\", simon_cost, \"元\")"
   ]
  },
  {
   "cell_type": "code",
   "execution_count": null,
   "metadata": {},
   "outputs": [],
   "source": [
    "# Joanna: milk_tea * 1, choco_cookies * 3, lemon_pie * 2\n",
    "joanna_cost = ?\n",
    "print(\"Joanna 總共花了：\", joanna_cost, \"元\")"
   ]
  },
  {
   "cell_type": "code",
   "execution_count": null,
   "metadata": {},
   "outputs": [],
   "source": [
    "# 平均花費\n",
    "average = ?\n",
    "print(\"兩個人平均花費：\", average, \"元\")"
   ]
  }
 ],
 "metadata": {
  "kernelspec": {
   "display_name": "Python 3",
   "language": "python",
   "name": "python3"
  },
  "language_info": {
   "codemirror_mode": {
    "name": "ipython",
    "version": 3
   },
   "file_extension": ".py",
   "mimetype": "text/x-python",
   "name": "python",
   "nbconvert_exporter": "python",
   "pygments_lexer": "ipython3",
   "version": "3.8.10"
  }
 },
 "nbformat": 4,
 "nbformat_minor": 4
}
